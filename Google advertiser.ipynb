{
 "cells": [
  {
   "cell_type": "code",
   "execution_count": 75,
   "metadata": {
    "collapsed": true,
    "scrolled": true
   },
   "outputs": [],
   "source": [
    "import plotly.plotly as py\n",
    "import plotly.graph_objs as go\n",
    "import geopy\n",
    "from geopy.geocoders import Nominatim\n",
    "import pycountry\n",
    "\n",
    "\n",
    "#df = pd.read_csv(r'C:\\Users\\Standalone\\Documents\\Hackathon Frankrig\\google-political-ads-transparency-bundle\\google-political-ads-geo-spend.csv', sep=',')\n",
    "#df_advertiser = df['Advertiser_Name']\n",
    "#df_advertiser.to_csv('Advertisers.csv', sep=';')"
   ]
  },
  {
   "cell_type": "code",
   "execution_count": 105,
   "metadata": {},
   "outputs": [
    {
     "name": "stdout",
     "output_type": "stream",
     "text": [
      "Index(['Country', 'Alpha-2 code', 'Alpha-3 code', 'Numeric code'], dtype='object')\n"
     ]
    }
   ],
   "source": [
    "df_geo = pd.read_csv(r'C:\\Users\\Standalone\\Documents\\Hackathon Frankrig\\google-political-ads-transparency-bundle\\google-political-ads-geo-spend.csv')\n",
    "df_geo = df_geo[df_geo.Country != 'US']\n",
    "#df_geo\n",
    "scl = [\n",
    "    [0.0, 'rgb(242,240,247)'],\n",
    "    [0.2, 'rgb(218,218,235)'],\n",
    "    [0.4, 'rgb(188,189,220)'],\n",
    "    [0.6, 'rgb(158,154,200)'],\n",
    "    [0.8, 'rgb(117,107,177)'],\n",
    "    [1.0, 'rgb(84,39,143)']\n",
    "]\n",
    "\n",
    "dfcountry = pd.read_excel('country_codes.xlsx') \n",
    "print (dfcountry.columns)\n",
    "\n",
    "df = df_geo.merge(dfcountry,how='inner',left_on=['Country'],right_on=['Alpha-3 code'])\n"
   ]
  },
  {
   "cell_type": "code",
   "execution_count": 110,
   "metadata": {},
   "outputs": [
    {
     "data": {
      "text/html": [
       "<iframe id=\"igraph\" scrolling=\"no\" style=\"border:none;\" seamless=\"seamless\" src=\"https://plot.ly/~mije11al/136.embed\" height=\"525px\" width=\"100%\"></iframe>"
      ],
      "text/plain": [
       "<plotly.tools.PlotlyDisplay object>"
      ]
     },
     "execution_count": 110,
     "metadata": {},
     "output_type": "execute_result"
    }
   ],
   "source": [
    "data = [go.Choropleth(\n",
    "    colorscale = scl,\n",
    "    autocolorscale = False,\n",
    "    locations = df['Numeric code'],\n",
    "    z = df['Spend_EUR'].astype(float),\n",
    "    text = df['Numeric code'],\n",
    "    marker = go.choropleth.Marker(\n",
    "        line = go.choropleth.marker.Line(\n",
    "            color = 'rgb(255,255,255)',\n",
    "            width = 2\n",
    "        )),\n",
    "    colorbar = go.choropleth.ColorBar(\n",
    "        title = \"Adspend EUR\")\n",
    ")]\n",
    "\n",
    "layout = go.Layout(\n",
    "    title = go.layout.Title(\n",
    "        text = 'Europe Google Adspend'\n",
    "    ),\n",
    "    margin = dict(l = 50, r = 50, t = 50, b = 50),\n",
    "    geo = go.layout.Geo(\n",
    "        scope = 'europe',\n",
    "        projection = go.layout.geo.Projection(type = 'natural earth'),\n",
    "        showlakes = True,\n",
    "        lakecolor = 'rgb(255, 255, 255)'),\n",
    ")\n",
    "\n",
    "fig = go.Figure(data = data, layout = layout)\n",
    "py.iplot(fig, filename = 'natural earth')"
   ]
  }
 ],
 "metadata": {
  "kernelspec": {
   "display_name": "Python 3",
   "language": "python",
   "name": "python3"
  },
  "language_info": {
   "codemirror_mode": {
    "name": "ipython",
    "version": 3
   },
   "file_extension": ".py",
   "mimetype": "text/x-python",
   "name": "python",
   "nbconvert_exporter": "python",
   "pygments_lexer": "ipython3",
   "version": "3.6.3"
  }
 },
 "nbformat": 4,
 "nbformat_minor": 2
}
