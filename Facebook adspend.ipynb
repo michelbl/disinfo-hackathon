{
 "cells": [
  {
   "cell_type": "code",
   "execution_count": 24,
   "metadata": {
    "collapsed": true
   },
   "outputs": [],
   "source": [
    "import plotly.plotly as py\n",
    "import plotly.graph_objs as go\n",
    "import pandas as pd"
   ]
  },
  {
   "cell_type": "code",
   "execution_count": 21,
   "metadata": {},
   "outputs": [],
   "source": [
    "countries = {'US': 549022573.4399819, 'GB': 6126120.000000009, 'DE': 3970082, 'ES': 3019810, 'BE': 2697127, 'IT': 2302159, 'FR': 1967799, 'DK': 1685403.7599999816, 'SE': 1582988.6100000022, 'AT': 1164713, 'GR': 924821, 'NL': 749088, 'HU': 638723.6559000012, 'RO': 634034.1000000002, 'PL': 508881.9249999998, 'SK': 488668, 'FI': 460497, 'IE': 452321, 'CZ': 296155.00200000306, 'BG': 180877.84000000008, 'PT': 177581, 'MT': 161100, 'HR': 152181.91999999993, 'LT': 148236, 'EE': 131736, 'LU': 118556, 'SI': 97576, 'CY': 94396, 'LV': 93734}\n",
    "df_spend = pd.DataFrame(list(countries.items(),), columns = ['Countries', 'FB_spend'])\n",
    "dfcountry = pd.read_excel('country_codes.xlsx') \n",
    "df = df_spend.merge(dfcountry,how='inner',left_on=['Countries'],right_on=['Alpha-3 code'])\n",
    "df = df[df.Countries != 'US']"
   ]
  },
  {
   "cell_type": "code",
   "execution_count": 22,
   "metadata": {},
   "outputs": [
    {
     "data": {
      "text/html": [
       "<iframe id=\"igraph\" scrolling=\"no\" style=\"border:none;\" seamless=\"seamless\" src=\"https://plot.ly/~mije11al/140.embed\" height=\"525px\" width=\"100%\"></iframe>"
      ],
      "text/plain": [
       "<plotly.tools.PlotlyDisplay object>"
      ]
     },
     "execution_count": 22,
     "metadata": {},
     "output_type": "execute_result"
    }
   ],
   "source": [
    "scl = [\n",
    "    [0.0, 'rgb(242,240,247)'],\n",
    "    [0.2, 'rgb(218,218,235)'],\n",
    "    [0.4, 'rgb(188,189,220)'],\n",
    "    [0.6, 'rgb(158,154,200)'],\n",
    "    [0.8, 'rgb(117,107,177)'],\n",
    "    [1.0, 'rgb(84,39,143)']\n",
    "]\n",
    "\n",
    "data = [go.Choropleth(\n",
    "    colorscale = scl,\n",
    "    autocolorscale = False,\n",
    "    locations = df['Numeric code'],\n",
    "    z = df['FB_spend'].astype(float),\n",
    "    text = df['Numeric code'],\n",
    "    marker = go.choropleth.Marker(\n",
    "        line = go.choropleth.marker.Line(\n",
    "            color = 'rgb(255,255,255)',\n",
    "            width = 2\n",
    "        )),\n",
    "    colorbar = go.choropleth.ColorBar(\n",
    "        title = \"Adspend EUR\")\n",
    ")]\n",
    "\n",
    "layout = go.Layout(\n",
    "    title = go.layout.Title(\n",
    "        text = 'Europe Facebook Adspend'\n",
    "    ),\n",
    "    margin = dict(l = 50, r = 50, t = 50, b = 50),\n",
    "    geo = go.layout.Geo(\n",
    "        scope = 'europe',\n",
    "        projection = go.layout.geo.Projection(type = 'natural earth'),\n",
    "        showlakes = True,\n",
    "        lakecolor = 'rgb(255, 255, 255)'),\n",
    ")\n",
    "\n",
    "fig = go.Figure(data = data, layout = layout)\n",
    "py.iplot(fig, filename = 'FB spend')"
   ]
  }
 ],
 "metadata": {
  "kernelspec": {
   "display_name": "Python 3",
   "language": "python",
   "name": "python3"
  },
  "language_info": {
   "codemirror_mode": {
    "name": "ipython",
    "version": 3
   },
   "file_extension": ".py",
   "mimetype": "text/x-python",
   "name": "python",
   "nbconvert_exporter": "python",
   "pygments_lexer": "ipython3",
   "version": "3.6.3"
  }
 },
 "nbformat": 4,
 "nbformat_minor": 2
}
